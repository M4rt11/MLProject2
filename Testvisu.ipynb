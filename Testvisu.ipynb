{
 "cells": [
  {
   "cell_type": "code",
   "execution_count": 19,
   "metadata": {
    "collapsed": true
   },
   "outputs": [],
   "source": [
    "import pandas as pd\n",
    "import numpy as np\n",
    "import matplotlib.pyplot as plt"
   ]
  },
  {
   "cell_type": "code",
   "execution_count": 24,
   "outputs": [
    {
     "data": {
      "text/plain": "        <x>       <y>       <z>    <t>\n0 -0.025647  0.049315  0.325122   29.0\n1 -0.025499  0.049046  0.324878   60.0\n2 -0.025448  0.048905  0.324636   91.0\n3 -0.025489  0.048762  0.324389  123.0\n4 -0.025432  0.048582  0.324143  157.0",
      "text/html": "<div>\n<style scoped>\n    .dataframe tbody tr th:only-of-type {\n        vertical-align: middle;\n    }\n\n    .dataframe tbody tr th {\n        vertical-align: top;\n    }\n\n    .dataframe thead th {\n        text-align: right;\n    }\n</style>\n<table border=\"1\" class=\"dataframe\">\n  <thead>\n    <tr style=\"text-align: right;\">\n      <th></th>\n      <th>&lt;x&gt;</th>\n      <th>&lt;y&gt;</th>\n      <th>&lt;z&gt;</th>\n      <th>&lt;t&gt;</th>\n    </tr>\n  </thead>\n  <tbody>\n    <tr>\n      <th>0</th>\n      <td>-0.025647</td>\n      <td>0.049315</td>\n      <td>0.325122</td>\n      <td>29.0</td>\n    </tr>\n    <tr>\n      <th>1</th>\n      <td>-0.025499</td>\n      <td>0.049046</td>\n      <td>0.324878</td>\n      <td>60.0</td>\n    </tr>\n    <tr>\n      <th>2</th>\n      <td>-0.025448</td>\n      <td>0.048905</td>\n      <td>0.324636</td>\n      <td>91.0</td>\n    </tr>\n    <tr>\n      <th>3</th>\n      <td>-0.025489</td>\n      <td>0.048762</td>\n      <td>0.324389</td>\n      <td>123.0</td>\n    </tr>\n    <tr>\n      <th>4</th>\n      <td>-0.025432</td>\n      <td>0.048582</td>\n      <td>0.324143</td>\n      <td>157.0</td>\n    </tr>\n  </tbody>\n</table>\n</div>"
     },
     "execution_count": 24,
     "metadata": {},
     "output_type": "execute_result"
    }
   ],
   "source": [
    "df = pd.read_csv('Domain1_csv/Subject1-1-1.csv')\n",
    "df1 = pd.read_csv('Domain1_csv/Subject1-1-2.csv')\n",
    "df2 = pd.read_csv('Domain1_csv/Subject1-1-3.csv')\n",
    "df.head()"
   ],
   "metadata": {
    "collapsed": false
   }
  },
  {
   "cell_type": "code",
   "execution_count": 21,
   "outputs": [
    {
     "name": "stdout",
     "output_type": "stream",
     "text": [
      "x 137\n",
      "x1 137\n"
     ]
    }
   ],
   "source": [
    "x = np.array(df.iloc[:, 0]).reshape(-1, 1)\n",
    "x1 = np.array(df1.iloc[:, 1]).reshape(-1, 1)\n",
    "x2 = np.array(df2.iloc[:, 1]).reshape(-1, 1)\n",
    "print('x', len(x))\n",
    "print('x1',len(x1))"
   ],
   "metadata": {
    "collapsed": false
   }
  },
  {
   "cell_type": "code",
   "execution_count": 22,
   "outputs": [],
   "source": [
    "x = np.array(df.iloc[:, 0])\n",
    "x1 = np.array(df1.iloc[:, 0])\n",
    "x2 = np.array(df2.iloc[:,0])"
   ],
   "metadata": {
    "collapsed": false
   }
  },
  {
   "cell_type": "code",
   "execution_count": 1,
   "outputs": [
    {
     "ename": "NameError",
     "evalue": "name 'plt' is not defined",
     "output_type": "error",
     "traceback": [
      "\u001B[0;31m---------------------------------------------------------------------------\u001B[0m",
      "\u001B[0;31mNameError\u001B[0m                                 Traceback (most recent call last)",
      "Cell \u001B[0;32mIn [1], line 1\u001B[0m\n\u001B[0;32m----> 1\u001B[0m \u001B[43mplt\u001B[49m\u001B[38;5;241m.\u001B[39mfigure(figsize\u001B[38;5;241m=\u001B[39m(\u001B[38;5;241m6\u001B[39m, \u001B[38;5;241m4\u001B[39m))\n\u001B[1;32m      2\u001B[0m plt\u001B[38;5;241m.\u001B[39mplot(np\u001B[38;5;241m.\u001B[39marange(x\u001B[38;5;241m.\u001B[39mshape[\u001B[38;5;241m0\u001B[39m]), x \u001B[38;5;241m+\u001B[39m \u001B[38;5;241m1.5\u001B[39m, \u001B[38;5;124m\"\u001B[39m\u001B[38;5;124m-o\u001B[39m\u001B[38;5;124m\"\u001B[39m, c\u001B[38;5;241m=\u001B[39m\u001B[38;5;124m\"\u001B[39m\u001B[38;5;124mC3\u001B[39m\u001B[38;5;124m\"\u001B[39m)\n\u001B[1;32m      3\u001B[0m plt\u001B[38;5;241m.\u001B[39mplot(np\u001B[38;5;241m.\u001B[39marange(x1\u001B[38;5;241m.\u001B[39mshape[\u001B[38;5;241m0\u001B[39m]), x1 \u001B[38;5;241m+\u001B[39m \u001B[38;5;241m1.5\u001B[39m, \u001B[38;5;124m\"\u001B[39m\u001B[38;5;124m-o\u001B[39m\u001B[38;5;124m\"\u001B[39m, c\u001B[38;5;241m=\u001B[39m\u001B[38;5;124m\"\u001B[39m\u001B[38;5;124mC0\u001B[39m\u001B[38;5;124m\"\u001B[39m)\n",
      "\u001B[0;31mNameError\u001B[0m: name 'plt' is not defined"
     ]
    }
   ],
   "source": [
    "plt.figure(figsize=(6, 4))\n",
    "plt.plot(np.arange(x.shape[0]), x + 1.5, \"-o\", c=\"C3\")\n",
    "plt.plot(np.arange(x1.shape[0]), x1 + 1.5, \"-o\", c=\"C0\")\n",
    "plt.axis(\"off\")\n",
    "plt.show()\n",
    "#plt.savefig(\"fig/signals_a_b.pdf\")"
   ],
   "metadata": {
    "collapsed": false
   }
  },
  {
   "cell_type": "code",
   "execution_count": 1,
   "outputs": [
    {
     "name": "stdout",
     "output_type": "stream",
     "text": [
      "if i change that\n"
     ]
    }
   ],
   "source": [
    "print(\"if i change that\")"
   ],
   "metadata": {
    "collapsed": false
   }
  },
  {
   "cell_type": "code",
   "execution_count": null,
   "outputs": [],
   "source": [],
   "metadata": {
    "collapsed": false
   }
  }
 ],
 "metadata": {
  "kernelspec": {
   "display_name": "Python 3",
   "language": "python",
   "name": "python3"
  },
  "language_info": {
   "codemirror_mode": {
    "name": "ipython",
    "version": 2
   },
   "file_extension": ".py",
   "mimetype": "text/x-python",
   "name": "python",
   "nbconvert_exporter": "python",
   "pygments_lexer": "ipython2",
   "version": "2.7.6"
  }
 },
 "nbformat": 4,
 "nbformat_minor": 0
}
